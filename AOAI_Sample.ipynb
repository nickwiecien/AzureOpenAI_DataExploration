{
 "cells": [
  {
   "cell_type": "markdown",
   "metadata": {
    "application/vnd.databricks.v1+cell": {
     "cellMetadata": {
      "byteLimit": 2048000,
      "rowLimit": 10000
     },
     "inputWidgets": {},
     "nuid": "6a1c5a22-3213-4a63-b3b8-4ea4d42ebc6a",
     "showTitle": false,
     "title": ""
    }
   },
   "source": [
    "## Azure OpenAI Service - Data Exploration Example\n",
    "\n",
    "To run this sample notebook, you will need to have an instance of Azure OpenAI Service provisioned. You will need to retrieve your API key, service URI, and name of a deployed model you aim to target for execution of this notebook."
   ]
  },
  {
   "cell_type": "markdown",
   "metadata": {
    "application/vnd.databricks.v1+cell": {
     "cellMetadata": {
      "byteLimit": 2048000,
      "rowLimit": 10000
     },
     "inputWidgets": {},
     "nuid": "69f40859-3b96-4947-b105-dc4966e23955",
     "showTitle": false,
     "title": ""
    }
   },
   "source": [
    "Import required packages"
   ]
  },
  {
   "cell_type": "code",
   "execution_count": 0,
   "metadata": {
    "application/vnd.databricks.v1+cell": {
     "cellMetadata": {
      "byteLimit": 2048000,
      "rowLimit": 10000
     },
     "inputWidgets": {},
     "nuid": "d76c76ad-6dca-4c91-af69-14572222ed9f",
     "showTitle": false,
     "title": ""
    }
   },
   "outputs": [],
   "source": [
    "import openai\n",
    "import numpy as np\n",
    "import os\n",
    "from pyspark.sql import SparkSession  \n",
    "from pyspark.sql.types import StructType, StructField, IntegerType, DoubleType  \n",
    "from sklearn.datasets import load_iris  "
   ]
  },
  {
   "cell_type": "markdown",
   "metadata": {
    "application/vnd.databricks.v1+cell": {
     "cellMetadata": {
      "byteLimit": 2048000,
      "rowLimit": 10000
     },
     "inputWidgets": {},
     "nuid": "3a5ed0f1-e606-4c4f-9ac1-d3012b656816",
     "showTitle": false,
     "title": ""
    }
   },
   "source": [
    "Initialize Spark session"
   ]
  },
  {
   "cell_type": "code",
   "execution_count": 0,
   "metadata": {
    "application/vnd.databricks.v1+cell": {
     "cellMetadata": {
      "byteLimit": 2048000,
      "rowLimit": 10000
     },
     "inputWidgets": {},
     "nuid": "aea72edf-51a5-4f6d-86ad-41e87ff9e381",
     "showTitle": false,
     "title": ""
    }
   },
   "outputs": [],
   "source": [
    "spark = SparkSession.builder \\\n",
    "    .appName(\"Delta Table with scikit-learn dataset\") \\\n",
    "    .config(\"spark.jars.packages\", \"io.delta:delta-core_2.12:1.0.0\") \\\n",
    "    .config(\"spark.sql.extensions\", \"io.delta.sql.DeltaSparkSessionExtension\") \\\n",
    "    .config(\"spark.sql.catalog.spark_catalog\", \"org.apache.spark.sql.delta.catalog.DeltaCatalog\") \\\n",
    "    .getOrCreate()\n"
   ]
  },
  {
   "cell_type": "markdown",
   "metadata": {
    "application/vnd.databricks.v1+cell": {
     "cellMetadata": {
      "byteLimit": 2048000,
      "rowLimit": 10000
     },
     "inputWidgets": {},
     "nuid": "6472e731-cc75-42d8-9f0e-be33e9c34f26",
     "showTitle": false,
     "title": ""
    }
   },
   "source": [
    "Load toy dataset from scikit-learn and define schema"
   ]
  },
  {
   "cell_type": "code",
   "execution_count": 0,
   "metadata": {
    "application/vnd.databricks.v1+cell": {
     "cellMetadata": {
      "byteLimit": 2048000,
      "rowLimit": 10000
     },
     "inputWidgets": {},
     "nuid": "7e19820b-2c71-46cb-bfff-e7d57d085e2b",
     "showTitle": false,
     "title": ""
    }
   },
   "outputs": [],
   "source": [
    "iris = load_iris()  \n",
    "data = iris['data']  \n",
    "feature_names = iris['feature_names']\n",
    "targets = iris['target']\n",
    "targets = targets.reshape(len(data), 1)\n",
    "\n",
    "data = np.concatenate((data, targets), axis=1)\n",
    "\n",
    "schema = StructType([  \n",
    "    StructField(\"sepal_length\", DoubleType(), True),  \n",
    "    StructField(\"sepal_width\", DoubleType(), True),  \n",
    "    StructField(\"petal_length\", DoubleType(), True),  \n",
    "    StructField(\"petal_width\", DoubleType(), True),  \n",
    "    StructField(\"target\", DoubleType(), True), \n",
    "])\n"
   ]
  },
  {
   "cell_type": "markdown",
   "metadata": {
    "application/vnd.databricks.v1+cell": {
     "cellMetadata": {
      "byteLimit": 2048000,
      "rowLimit": 10000
     },
     "inputWidgets": {},
     "nuid": "92b1baeb-a3cb-4873-bbc0-97d84a5279c7",
     "showTitle": false,
     "title": ""
    }
   },
   "source": [
    "Create a Spark DataFrame and save as a Delta table"
   ]
  },
  {
   "cell_type": "code",
   "execution_count": 0,
   "metadata": {
    "application/vnd.databricks.v1+cell": {
     "cellMetadata": {
      "byteLimit": 2048000,
      "rowLimit": 10000
     },
     "inputWidgets": {},
     "nuid": "b3487172-1676-46dc-be4c-547e33ce040c",
     "showTitle": false,
     "title": ""
    }
   },
   "outputs": [],
   "source": [
    "data_df = spark.createDataFrame(data.tolist(), schema=schema)   \n",
    "data_df.write.format(\"delta\").mode(\"overwrite\").option(\"overwriteSchema\", \"true\").save(\"/tmp/iris-delta-table\") \n"
   ]
  },
  {
   "cell_type": "markdown",
   "metadata": {
    "application/vnd.databricks.v1+cell": {
     "cellMetadata": {
      "byteLimit": 2048000,
      "rowLimit": 10000
     },
     "inputWidgets": {},
     "nuid": "700036dc-c464-4962-b6b4-b56830553a5e",
     "showTitle": false,
     "title": ""
    }
   },
   "source": [
    "Set `OPENAI_API_KEY` and `OPENAI_BASE` as environment variables."
   ]
  },
  {
   "cell_type": "code",
   "execution_count": 0,
   "metadata": {
    "application/vnd.databricks.v1+cell": {
     "cellMetadata": {
      "byteLimit": 2048000,
      "rowLimit": 10000
     },
     "inputWidgets": {},
     "nuid": "12a516d9-ecee-4e6e-9850-e33f60e3cd87",
     "showTitle": false,
     "title": ""
    }
   },
   "outputs": [],
   "source": [
    "import os\n",
    "os.environ['OPENAI_API_KEY'] = 'YOUR-KEY'\n",
    "os.environ['OPENAI_BASE'] = 'YOUR-AOAI-SERVICE-URI' # should have format https://yourservicename.openai.azure.com/"
   ]
  },
  {
   "cell_type": "markdown",
   "metadata": {
    "application/vnd.databricks.v1+cell": {
     "cellMetadata": {
      "byteLimit": 2048000,
      "rowLimit": 10000
     },
     "inputWidgets": {},
     "nuid": "954fd0a6-1cec-4558-8d12-164658b0ade4",
     "showTitle": false,
     "title": ""
    }
   },
   "source": [
    "OpenAI prompt helper function.\n",
    "\n",
    "<i>Note:</i> Update the `engine` field in the OpenAI chat completion prompt with the name of a deployed model in your service"
   ]
  },
  {
   "cell_type": "code",
   "execution_count": 0,
   "metadata": {
    "application/vnd.databricks.v1+cell": {
     "cellMetadata": {
      "byteLimit": 2048000,
      "rowLimit": 10000
     },
     "inputWidgets": {},
     "nuid": "e36e9363-020a-4702-a688-8fb9d4a6f285",
     "showTitle": false,
     "title": ""
    }
   },
   "outputs": [],
   "source": [
    "def prompt_openai(prompt):\n",
    "    import os\n",
    "    import openai\n",
    "    openai.api_type = \"azure\"\n",
    "    openai.api_base = os.getenv(\"OPENAI_BASE\")\n",
    "    openai.api_version = \"2023-03-15-preview\"\n",
    "    openai.api_key = os.getenv(\"OPENAI_API_KEY\")\n",
    "    \n",
    "    response = openai.ChatCompletion.create(\n",
    "      engine=\"YOUR-DEPLOYMENT-NAME\",\n",
    "      messages = [{\"role\":\"system\",\"content\":\"You are an AI assistant that helps people get information.\"},{\"role\":\"user\",\"content\":prompt}],\n",
    "      temperature=0.0,\n",
    "      max_tokens=3000,\n",
    "      top_p=0.95,\n",
    "      frequency_penalty=0,\n",
    "      presence_penalty=0,\n",
    "      stop=None)\n",
    "    \n",
    "    return response['choices'][0]['message']['content']"
   ]
  },
  {
   "cell_type": "markdown",
   "metadata": {
    "application/vnd.databricks.v1+cell": {
     "cellMetadata": {
      "byteLimit": 2048000,
      "rowLimit": 10000
     },
     "inputWidgets": {},
     "nuid": "5c39706d-cf86-4cc8-9e55-3d84b23a4632",
     "showTitle": false,
     "title": ""
    }
   },
   "source": [
    "Use OpenAI to help query data from Delta Lake"
   ]
  },
  {
   "cell_type": "code",
   "execution_count": 0,
   "metadata": {
    "application/vnd.databricks.v1+cell": {
     "cellMetadata": {
      "byteLimit": 2048000,
      "rowLimit": 10000
     },
     "inputWidgets": {},
     "nuid": "6c3a799f-d3b0-4043-9c25-224a2f7b359c",
     "showTitle": false,
     "title": ""
    }
   },
   "outputs": [],
   "source": [
    "prompt = \"\"\"\n",
    "TABLE SCHEMA: sepal_width, sepal_length, petal_length, petal_width, target. Write me a spark SQL command that will query all data from my table where sepal_length is > 5  from delta table at '/tmp/iris-delta-table'\n",
    "\"\"\"\n",
    "\n",
    "response = prompt_openai(prompt)\n",
    "print(response)"
   ]
  },
  {
   "cell_type": "markdown",
   "metadata": {
    "application/vnd.databricks.v1+cell": {
     "cellMetadata": {
      "byteLimit": 2048000,
      "rowLimit": 10000
     },
     "inputWidgets": {},
     "nuid": "9974e69c-df7d-4175-a34f-8d19f725faaa",
     "showTitle": false,
     "title": ""
    }
   },
   "source": [
    "Execute returned query"
   ]
  },
  {
   "cell_type": "code",
   "execution_count": 0,
   "metadata": {
    "application/vnd.databricks.v1+cell": {
     "cellMetadata": {
      "byteLimit": 2048000,
      "implicitDf": true,
      "rowLimit": 10000
     },
     "inputWidgets": {},
     "nuid": "f7d78bba-84da-4dc4-8030-0caba15dc26a",
     "showTitle": false,
     "title": ""
    }
   },
   "outputs": [],
   "source": [
    "%sql\n",
    "SELECT sepal_width, sepal_length, petal_length, petal_width, target\n",
    "FROM delta.`/tmp/iris-delta-table`\n",
    "WHERE sepal_length > 5"
   ]
  },
  {
   "cell_type": "markdown",
   "metadata": {
    "application/vnd.databricks.v1+cell": {
     "cellMetadata": {
      "byteLimit": 2048000,
      "rowLimit": 10000
     },
     "inputWidgets": {},
     "nuid": "45424c1a-791b-4b26-af87-c8313d60ac3a",
     "showTitle": false,
     "title": ""
    }
   },
   "source": [
    "Convert Spark DataFrame to Pandas"
   ]
  },
  {
   "cell_type": "code",
   "execution_count": 0,
   "metadata": {
    "application/vnd.databricks.v1+cell": {
     "cellMetadata": {
      "byteLimit": 2048000,
      "rowLimit": 10000
     },
     "inputWidgets": {},
     "nuid": "958fc519-dbc3-477a-bd9d-920c23b78a60",
     "showTitle": false,
     "title": ""
    }
   },
   "outputs": [],
   "source": [
    "pandas_df = _sqldf.toPandas()"
   ]
  },
  {
   "cell_type": "markdown",
   "metadata": {
    "application/vnd.databricks.v1+cell": {
     "cellMetadata": {
      "byteLimit": 2048000,
      "rowLimit": 10000
     },
     "inputWidgets": {},
     "nuid": "907d3bb8-cda3-4e1d-8c39-7cbea4071f32",
     "showTitle": false,
     "title": ""
    }
   },
   "source": [
    "Use OpenAI to summarize data."
   ]
  },
  {
   "cell_type": "code",
   "execution_count": 0,
   "metadata": {
    "application/vnd.databricks.v1+cell": {
     "cellMetadata": {
      "byteLimit": 2048000,
      "rowLimit": 10000
     },
     "inputWidgets": {},
     "nuid": "495d0c17-3b74-4bbc-a4f3-734a8ffbb0d7",
     "showTitle": false,
     "title": ""
    }
   },
   "outputs": [],
   "source": [
    "prompt = f\"\"\"\n",
    "From the table of data below, describe general trends for inclusion in an executive report.\n",
    "\n",
    "DATA:{pandas_df.to_json(orient='records')}\n",
    "\"\"\"\n",
    "\n",
    "response = prompt_openai(prompt)\n",
    "print(response)"
   ]
  },
  {
   "cell_type": "markdown",
   "metadata": {
    "application/vnd.databricks.v1+cell": {
     "cellMetadata": {
      "byteLimit": 2048000,
      "rowLimit": 10000
     },
     "inputWidgets": {},
     "nuid": "8fc20d08-2ec6-4da4-83b7-0055df772686",
     "showTitle": false,
     "title": ""
    }
   },
   "source": [
    "Use OpenAI to create an analysis function"
   ]
  },
  {
   "cell_type": "code",
   "execution_count": 0,
   "metadata": {
    "application/vnd.databricks.v1+cell": {
     "cellMetadata": {
      "byteLimit": 2048000,
      "rowLimit": 10000
     },
     "inputWidgets": {},
     "nuid": "cd9f8270-f28a-42a8-8719-441cdaff95f3",
     "showTitle": false,
     "title": ""
    }
   },
   "outputs": [],
   "source": [
    "prompt = f\"\"\"\n",
    "Create and return a python function to calculate the average value of 'sepal_width', 'sepal_length', and 'petal_length' associated with each unique 'target' value. Assume the data exists in a pandas dataframe named 'pandas_df'.\n",
    "\"\"\"\n",
    "\n",
    "response = prompt_openai(prompt)\n",
    "print(response)"
   ]
  },
  {
   "cell_type": "markdown",
   "metadata": {
    "application/vnd.databricks.v1+cell": {
     "cellMetadata": {
      "byteLimit": 2048000,
      "rowLimit": 10000
     },
     "inputWidgets": {},
     "nuid": "67e1be92-5ff0-4a98-a32d-91bc5589103d",
     "showTitle": false,
     "title": ""
    }
   },
   "source": [
    "Execute analysis function"
   ]
  },
  {
   "cell_type": "code",
   "execution_count": 0,
   "metadata": {
    "application/vnd.databricks.v1+cell": {
     "cellMetadata": {
      "byteLimit": 2048000,
      "rowLimit": 10000
     },
     "inputWidgets": {},
     "nuid": "0c7a0cd9-d876-4229-93e5-f3a0f4941559",
     "showTitle": false,
     "title": ""
    }
   },
   "outputs": [],
   "source": [
    "import pandas as pd\n",
    "\n",
    "def calculate_average(df):\n",
    "    # Group the dataframe by the 'target' column and calculate the mean of the specified columns\n",
    "    average_values = df.groupby('target')[['sepal_width', 'sepal_length', 'petal_length']].mean()\n",
    "    \n",
    "    return average_values\n",
    "\n",
    "# Assuming you have a pandas DataFrame named 'pandas_df'\n",
    "# Call the function with the 'pandas_df' DataFrame\n",
    "result = calculate_average(pandas_df)\n",
    "\n",
    "# Print the result\n",
    "print(result)"
   ]
  }
 ],
 "metadata": {
  "application/vnd.databricks.v1+notebook": {
   "dashboards": [],
   "language": "python",
   "notebookMetadata": {
    "mostRecentlyExecutedCommandWithImplicitDF": {
     "commandId": 2516137295930795,
     "dataframes": [
      "_sqldf"
     ]
    },
    "pythonIndentUnit": 4
   },
   "notebookName": "AOAI_Sample",
   "notebookOrigID": 2516137295930789,
   "widgets": {}
  }
 },
 "nbformat": 4,
 "nbformat_minor": 0
}
